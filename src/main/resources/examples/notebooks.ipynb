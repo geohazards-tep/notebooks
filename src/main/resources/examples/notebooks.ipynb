{
 "cells": [
  {
   "cell_type": "markdown",
   "metadata": {},
   "source": [
    "# Geohazards Thematic Exploitation Platform Notebooks"
   ]
  },
  {
   "cell_type": "markdown",
   "metadata": {},
   "source": [
    "## <a name=\"quicklink\">Quick link"
   ]
  },
  {
   "cell_type": "markdown",
   "metadata": {},
   "source": [
    "* [01 Multitemporal SAR composites using GDAL](#01)\n",
    "* [02 Multitemporal SAR composites using the Orfeo Toolbox](#02)\n",
    "* [03 TerraSAR-X interferometry analysis using the Orfeo Toolboxx](#03)\n",
    "* [04 TerraSAR-X interferometry analysis using the Orfeo Toolbox and sandbox results](#04)\n",
    "* [05 VISHMO - Visualization of horizontal motion fields with R](#05)\n",
    "* [06 Read and plot SBAS time series](#06)"
   ]
  },
  {
   "cell_type": "markdown",
   "metadata": {},
   "source": [
    "### <a name=\"01\">01 Multitemporal SAR composites using GDAL"
   ]
  },
  {
   "cell_type": "markdown",
   "metadata": {},
   "source": [
    "The objective of this example is to show how to create multitemporal SAR composites using DLR's InSAR Browse results using GDAL.\n",
    "\n",
    "[Go!](01%20Multitemporal%20SAR%20composites%20using%20GDAL.ipynb)"
   ]
  },
  {
   "cell_type": "markdown",
   "metadata": {},
   "source": [
    "### <a name=\"02\">02 Multitemporal SAR composites using the Orfeo Toolbox"
   ]
  },
  {
   "cell_type": "markdown",
   "metadata": {},
   "source": [
    "The objective of this example is to show how to create multitemporal SAR composites using DLR's InSAR Browse results using the Orfeo Toolbox.\n",
    "\n",
    "[Go!](02%20Multitemporal%20SAR%20composites%20using%20the%20Orfeo%20Toolbox.ipynb)"
   ]
  },
  {
   "cell_type": "markdown",
   "metadata": {},
   "source": [
    "### <a name=\"03\">03 TerraSAR-X interferometry analysis using the Orfeo Toolbox"
   ]
  },
  {
   "cell_type": "markdown",
   "metadata": {},
   "source": [
    "The objective of this example is to show how to plot the phase and intensity of a TerraSAR-X interferogram.\n",
    "\n",
    "[Go!](03%20TerraSAR-X%20interferometry%20analysis%20using%20the%20Orfeo%20Toolbox.ipynb)"
   ]
  },
  {
   "cell_type": "markdown",
   "metadata": {},
   "source": [
    "### <a name=\"04\">04 TerraSAR-X interferometry analysis using the Orfeo Toolbox and sandbox results"
   ]
  },
  {
   "cell_type": "markdown",
   "metadata": {},
   "source": [
    "The objective of this example is to query the sandbox resutls and show how to plot the phase and intensity of a TerraSAR-X interferogram.\n",
    "\n",
    "[Go!](04%20TerraSAR-X%20interferometry%20analysis%20using%20the%20Orfeo%20Toolbox%20and%20sandbox%20results.ipynb)"
   ]
  },
  {
   "cell_type": "markdown",
   "metadata": {
    "collapsed": true
   },
   "source": [
    "### <a name=\"05\">05 VISHMO - Visualization of horizontal motion fields with R"
   ]
  },
  {
   "cell_type": "markdown",
   "metadata": {},
   "source": [
    "The objective of this example is to plot horizontal and vertical displacement with R and VISHMO .\n",
    "\n",
    "[Go!](05%20VISHMO%20-%20Visualization%20of%20horizontal%20motion%20fields%20with%20R.ipynb)"
   ]
  },
  {
   "cell_type": "markdown",
   "metadata": {},
   "source": [
    "### <a name=\"06\">Read and plot SBAS time series"
   ]
  },
  {
   "cell_type": "markdown",
   "metadata": {},
   "source": [
    "The objective is to:\n",
    "\n",
    "* Download a SBAS EPOSAR processing service result\n",
    "* Inspect the data\n",
    "* Plot the mean velocity\n",
    "* Plot the time-series for a given location\n",
    "\n",
    "[Go!](06%20Read%20and%20plot%20SBAS%20time%20series.ipynb)"
   ]
  }
 ],
 "metadata": {
  "kernelspec": {
   "display_name": "Python 2",
   "language": "python",
   "name": "python2"
  },
  "language_info": {
   "codemirror_mode": {
    "name": "ipython",
    "version": 2
   },
   "file_extension": ".py",
   "mimetype": "text/x-python",
   "name": "python",
   "nbconvert_exporter": "python",
   "pygments_lexer": "ipython2",
   "version": "2.7.12"
  }
 },
 "nbformat": 4,
 "nbformat_minor": 1
}
