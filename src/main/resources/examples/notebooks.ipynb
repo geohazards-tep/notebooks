{
 "cells": [
  {
   "cell_type": "markdown",
   "metadata": {},
   "source": [
    "# Geohazards Thematic Exploitation Platform Notebooks"
   ]
  },
  {
   "cell_type": "markdown",
   "metadata": {},
   "source": [
    "## <a name=\"quicklink\">Quick link"
   ]
  },
  {
   "cell_type": "markdown",
   "metadata": {},
   "source": [
    "* [01 Multitemporal SAR composites using GDAL](#01)\n",
    "* [02 Multitemporal SAR composites using the Orfeo Toolbox](#02)\n",
    "* [03 TerraSAR-X interferometry analysis using the Orfeo Toolboxx](#03)\n",
    "* [04 TerraSAR-X interferometry analysis using the Orfeo Toolbox and sandbox results](#04)"
   ]
  },
  {
   "cell_type": "markdown",
   "metadata": {},
   "source": [
    "### <a name=\"01\">01 Multitemporal SAR composites using GDAL"
   ]
  },
  {
   "cell_type": "markdown",
   "metadata": {},
   "source": [
    "TBW\n",
    "\n",
    "[Go!](01%20Multitemporal%20SAR%20composites%20using%20GDAL.ipynb)"
   ]
  },
  {
   "cell_type": "markdown",
   "metadata": {},
   "source": [
    "### <a name=\"02\">02 Multitemporal SAR composites using the Orfeo Toolbox"
   ]
  },
  {
   "cell_type": "markdown",
   "metadata": {},
   "source": [
    "TBW\n",
    "\n",
    "[Go!](02%20Multitemporal%20SAR%20composites%20using%20the%20Orfeo%20Toolbox.ipynb)"
   ]
  },
  {
   "cell_type": "markdown",
   "metadata": {},
   "source": [
    "### <a name=\"03\">03 TerraSAR-X interferometry analysis using the Orfeo Toolbox"
   ]
  },
  {
   "cell_type": "markdown",
   "metadata": {},
   "source": [
    "TBW\n",
    "\n",
    "[Go!](03%20TerraSAR-X%20interferometry%20analysis%20using%20the%20Orfeo%20Toolbox.ipynb)"
   ]
  },
  {
   "cell_type": "markdown",
   "metadata": {},
   "source": [
    "### <a name=\"04\">04 TerraSAR-X interferometry analysis using the Orfeo Toolbox and sandbox results"
   ]
  },
  {
   "cell_type": "markdown",
   "metadata": {},
   "source": [
    "TBW\n",
    "\n",
    "[Go!](04%20TerraSAR-X%20interferometry%20analysis%20using%20the%20Orfeo%20Toolbox%20and%20sandbox%20results.ipynb)"
   ]
  },
  {
   "cell_type": "code",
   "execution_count": null,
   "metadata": {
    "collapsed": true
   },
   "outputs": [],
   "source": []
  }
 ],
 "metadata": {
  "kernelspec": {
   "display_name": "Python 2",
   "language": "python",
   "name": "python2"
  },
  "language_info": {
   "codemirror_mode": {
    "name": "ipython",
    "version": 2
   },
   "file_extension": ".py",
   "mimetype": "text/x-python",
   "name": "python",
   "nbconvert_exporter": "python",
   "pygments_lexer": "ipython2",
   "version": "2.7.12"
  },
  "widgets": {
   "state": {},
   "version": "1.1.2"
  }
 },
 "nbformat": 4,
 "nbformat_minor": 1
}
