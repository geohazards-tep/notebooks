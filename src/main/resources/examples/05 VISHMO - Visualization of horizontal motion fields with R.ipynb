{
 "cells": [
  {
   "cell_type": "markdown",
   "metadata": {},
   "source": [
    "# 05 VISHMO - Visualization of horizontal motion fields with R"
   ]
  },
  {
   "cell_type": "code",
   "execution_count": 1,
   "metadata": {
    "collapsed": false
   },
   "outputs": [],
   "source": [
    "Sys.setenv(GDAL_DATA='/opt/anaconda/share/gdal')\n",
    "Sys.setenv(PATH='/opt/anaconda/bin')"
   ]
  },
  {
   "cell_type": "code",
   "execution_count": 2,
   "metadata": {
    "collapsed": true
   },
   "outputs": [],
   "source": [
    "source('https://bitbucket.org/AndreStumpf/vishmo/raw/a54bd6f55450fd5bbfcd51843578b811686cc1b1/plotField.R')\n",
    "source('https://bitbucket.org/AndreStumpf/vishmo/raw/a54bd6f55450fd5bbfcd51843578b811686cc1b1/getCrossSection.R')"
   ]
  },
  {
   "cell_type": "code",
   "execution_count": 1,
   "metadata": {
    "collapsed": false
   },
   "outputs": [
    {
     "ename": "ERROR",
     "evalue": "Error in (function (x) : no function to return from, jumping to top level\n",
     "output_type": "error",
     "traceback": [
      "Error in (function (x) : no function to return from, jumping to top level\nTraceback:\n",
      "1. library(\"sp\")",
      "2. try({\n .     attr(package, \"LibPath\") <- which.lib.loc\n .     ns <- loadNamespace(package, lib.loc)\n .     env <- attachNamespace(ns, pos = pos, deps)\n . })",
      "3. tryCatch(expr, error = function(e) {\n .     call <- conditionCall(e)\n .     if (!is.null(call)) {\n .         if (identical(call[[1L]], quote(doTryCatch))) \n .             call <- sys.call(-4L)\n .         dcall <- deparse(call)[1L]\n .         prefix <- paste(\"Error in\", dcall, \": \")\n .         LONG <- 75L\n .         msg <- conditionMessage(e)\n .         sm <- strsplit(msg, \"\\n\")[[1L]]\n .         w <- 14L + nchar(dcall, type = \"w\") + nchar(sm[1L], type = \"w\")\n .         if (is.na(w)) \n .             w <- 14L + nchar(dcall, type = \"b\") + nchar(sm[1L], \n .                 type = \"b\")\n .         if (w > LONG) \n .             prefix <- paste0(prefix, \"\\n  \")\n .     }\n .     else prefix <- \"Error : \"\n .     msg <- paste0(prefix, conditionMessage(e), \"\\n\")\n .     .Internal(seterrmessage(msg[1L]))\n .     if (!silent && identical(getOption(\"show.error.messages\"), \n .         TRUE)) {\n .         cat(msg, file = stderr())\n .         .Internal(printDeferredWarnings())\n .     }\n .     invisible(structure(msg, class = \"try-error\", condition = e))\n . })",
      "4. tryCatchList(expr, classes, parentenv, handlers)",
      "5. tryCatchOne(expr, names, parentenv, handlers[[1L]])",
      "6. doTryCatch(return(expr), name, parentenv, handler)",
      "7. loadNamespace(package, lib.loc)",
      "8. methods::cacheMetaData(ns, TRUE, ns)",
      "9. .updateMethodsInTable(fdef, where, attach)",
      "10. .mergeMethodsTable(generic, mtable, tt, attach)",
      "11. .resetTable(table, ns, signames)",
      "12. as(ifelse(seqN > length(newSig), anyLabel, newSig), \"signature\")",
      "13. asMethod(object)",
      "14. `as<-`(`*tmp*`, \"character\", value = c(\"ANY\", \"ANY\"))",
      "15. asMethod(object, Class, value)",
      "16. setDataPart(structure(character(0), .Names = character(0), package = character(0), class = structure(\"signature\", package = \"methods\")), \n  .     c(\"ANY\", \"ANY\"))",
      "17. (function (x) \n  . x$.self$finalize())(<environment>)"
     ]
    }
   ],
   "source": [
    "library('sp')"
   ]
  },
  {
   "cell_type": "code",
   "execution_count": null,
   "metadata": {
    "collapsed": false
   },
   "outputs": [
    {
     "name": "stderr",
     "output_type": "stream",
     "text": [
      "Loading required package: sp\n"
     ]
    }
   ],
   "source": [
    "library('rgdal')"
   ]
  },
  {
   "cell_type": "code",
   "execution_count": 13,
   "metadata": {
    "collapsed": true
   },
   "outputs": [],
   "source": [
    "user <- 'fbrito'\n",
    "api <- 'AKCp2VokXW9QGM3RC3WUevapB1k1vSLgyuj5JvEidwTv1jQjTN21UQZuqS9JbP9jywr7o7DUC'"
   ]
  },
  {
   "cell_type": "code",
   "execution_count": 18,
   "metadata": {
    "collapsed": true
   },
   "outputs": [],
   "source": [
    "centerx <- 64.794\n",
    "centery <- 26.5455\n",
    "\n",
    "extent = 0.1 \n",
    "\n",
    "ulx <- centerx - extent\n",
    "uly <- centery + extent\n",
    "lrx <- centerx + extent\n",
    "lry <- centery - extent"
   ]
  },
  {
   "cell_type": "code",
   "execution_count": 20,
   "metadata": {
    "collapsed": false
   },
   "outputs": [],
   "source": [
    "url_EW <- paste('/vsicurl/https://', user, ':', api, '@store.terradue.com/api/fbrito/vishmo/BalochistanEW.tif', sep = '')\n",
    "url_NS <- paste('/vsicurl/https://', user, ':', api, '@store.terradue.com/api/fbrito/vishmo/BalochistanNS.tif', sep = '')\n",
    "\n",
    "EW <- ('subset_BalochistanEW.tif')\n",
    "NS <- ('subset_BalochistanNS.tif')\n",
    "\n",
    "cmd <- paste('gdal_translate -projwin', ulx, uly, lrx, lry, '-projwin_srs EPSG:4326', url_EW, 'subset_BalochistanEW.tif', sep = ' ')\n",
    "system(cmd)\n",
    "cmd <- paste('gdal_translate -projwin', ulx, uly, lrx, lry, '-projwin_srs EPSG:4326', url_NS, 'subset_BalochistanNS.tif', sep = ' ')\n",
    "system(cmd)"
   ]
  },
  {
   "cell_type": "code",
   "execution_count": null,
   "metadata": {
    "collapsed": false
   },
   "outputs": [],
   "source": [
    "plotField(EW, NS, type=\"magnitude\",max.displacement = 12,title='Displacement vectors and norm', col.bias=0.8)\n"
   ]
  },
  {
   "cell_type": "code",
   "execution_count": null,
   "metadata": {
    "collapsed": true
   },
   "outputs": [],
   "source": []
  }
 ],
 "metadata": {
  "kernelspec": {
   "display_name": "R",
   "language": "R",
   "name": "ir"
  },
  "language_info": {
   "codemirror_mode": "r",
   "file_extension": ".r",
   "mimetype": "text/x-r-source",
   "name": "R",
   "pygments_lexer": "r",
   "version": "3.3.2"
  }
 },
 "nbformat": 4,
 "nbformat_minor": 2
}
